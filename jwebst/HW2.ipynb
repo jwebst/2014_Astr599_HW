{
 "metadata": {
  "name": "",
  "signature": "sha256:b8be5fb0d42b639cd50e1fb01891dccc84e223ddf0a46ddc2aabd783bbbb43b4"
 },
 "nbformat": 3,
 "nbformat_minor": 0,
 "worksheets": [
  {
   "cells": [
    {
     "cell_type": "heading",
     "level": 1,
     "metadata": {},
     "source": [
      "ASTR599 HW2: AN INTEGRATOR PARENT\n",
      "\n"
     ]
    },
    {
     "cell_type": "markdown",
     "metadata": {},
     "source": [
      "2014-10-06 &nbsp;&nbsp;&nbsp;&nbsp;&nbsp;&nbsp;&nbsp; Jason Webster"
     ]
    },
    {
     "cell_type": "code",
     "collapsed": false,
     "input": [
      "%matplotlib inline\n",
      "import numpy as np\n",
      "import matplotlib as plt"
     ],
     "language": "python",
     "metadata": {},
     "outputs": [],
     "prompt_number": 3
    },
    {
     "cell_type": "heading",
     "level": 5,
     "metadata": {},
     "source": [
      "1 Create a function <b> func </b> for the function $f(x) = sin(x)$."
     ]
    },
    {
     "cell_type": "code",
     "collapsed": false,
     "input": [
      "def sin(x): return np.sin(x)"
     ],
     "language": "python",
     "metadata": {},
     "outputs": [],
     "prompt_number": 4
    },
    {
     "cell_type": "code",
     "collapsed": false,
     "input": [
      "sin(np.pi/2)"
     ],
     "language": "python",
     "metadata": {},
     "outputs": [
      {
       "metadata": {},
       "output_type": "pyout",
       "prompt_number": 5,
       "text": [
        "1.0"
       ]
      }
     ],
     "prompt_number": 5
    },
    {
     "cell_type": "heading",
     "level": 5,
     "metadata": {},
     "source": [
      "2 A template of the parent class integrator is provided. This class will have all the common functionality to integrate a function <b> f </b> in the interval <b>[a,b]</b>. However, the method of integration is not yet providednor the integration function. "
     ]
    },
    {
     "cell_type": "heading",
     "level": 5,
     "metadata": {},
     "source": [
      " 3 Add an additional function called <b> integrate(self,func) </b> inside the class Integrator, which calculates the integral from the weigths $w_i$: <b>self.weights</b> at different points x_i:<b>self.points</b>. Note this should be arrays. The integral is calculated as\n",
      "\n",
      "$$\n",
      "\\int_a^b f(x) dx = \\sum_{i=0}^{n-1} w_i f(x_i)\n",
      "$$"
     ]
    },
    {
     "cell_type": "code",
     "collapsed": false,
     "input": [
      "class Integrator(object):\n",
      "    def __init__(self, a, b, n):\n",
      "        self.a, self.b, self.n = a, b, float(n)\n",
      "        self.points, self.weights = self.method()\n",
      "        \n",
      "    def method(self):\n",
      "        return np.linspace(self.a,self.b,self.n),np.ones([self.n])/float(self.n)\n",
      "\n",
      "    def integrate(self,func):\n",
      "        return sum([wi*sin(xi) for wi,xi in zip(self.weights,self.points)])      "
     ],
     "language": "python",
     "metadata": {},
     "outputs": [],
     "prompt_number": 6
    },
    {
     "cell_type": "code",
     "collapsed": false,
     "input": [
      "x=Integrator(0,1,10)\n",
      "x.integrate(sin)"
     ],
     "language": "python",
     "metadata": {},
     "outputs": [
      {
       "metadata": {},
       "output_type": "pyout",
       "prompt_number": 7,
       "text": [
        "0.45537574033874778"
       ]
      }
     ],
     "prompt_number": 7
    },
    {
     "cell_type": "heading",
     "level": 5,
     "metadata": {},
     "source": [
      "4 Create a child class of Integrator called <b> Trapezoidal</b>, where you define a function called <b>method(self)</b>.\n",
      "This function should return two arrays: <b> x </b> and <b> w </b> corresponding to the points and their current weights.This should be the values correponding to the trapezoidal rule for integration. If you are not familiar with it, you can look for it online"
     ]
    },
    {
     "cell_type": "code",
     "collapsed": false,
     "input": [
      "class Trapezoidal(Integrator):\n",
      "    \n",
      "    def __init__(self, *args):\n",
      "        super(Trapezoidal, self).__init__(*args)\n",
      "        self.points, self.weights = self.method()\n",
      "        \n",
      "    def method(self):\n",
      "        wVec=(self.b-self.a)/(self.n*np.ones(self.n+1)); wVec[0]/=2; wVec[-1]/=2\n",
      "        return np.linspace(self.a,self.b,self.n+1),wVec\n",
      "\n",
      "    def integrate(self,func):\n",
      "        return sum([wi*sin(xi) for wi,xi in zip(self.weights,self.points)])   "
     ],
     "language": "python",
     "metadata": {},
     "outputs": [],
     "prompt_number": 8
    },
    {
     "cell_type": "code",
     "collapsed": false,
     "input": [
      "tra=Trapezoidal(0,np.pi,10)\n",
      "tra.integrate(sin)"
     ],
     "language": "python",
     "metadata": {},
     "outputs": [
      {
       "metadata": {},
       "output_type": "pyout",
       "prompt_number": 9,
       "text": [
        "1.9835235375094544"
       ]
      }
     ],
     "prompt_number": 9
    },
    {
     "cell_type": "heading",
     "level": 5,
     "metadata": {},
     "source": [
      "5 Create a child class of Integrator called <b> Midpoint</b>. It should do the same as <b> Trapezoidal</b> but employing the midpoint method for numerical integration."
     ]
    },
    {
     "cell_type": "code",
     "collapsed": false,
     "input": [
      "class Midpoint(Integrator):\n",
      "    \n",
      "    def __init__(self, *args):\n",
      "        super(Midpoint, self).__init__(*args)\n",
      "        self.points, self.weights = self.method()\n",
      "        \n",
      "    def method(self):\n",
      "        x=np.linspace(self.a,self.b,self.n+1)\n",
      "        pts=[(x1+x2)/2. for x1,x2 in zip(x[:-1],x[1:])]\n",
      "        return pts,(self.b-self.a)/(self.n)*np.ones(self.n+1)\n",
      "\n",
      "    def integrate(self,func):\n",
      "        return sum([wi*sin(xi) for wi,xi in zip(self.weights,self.points)])   "
     ],
     "language": "python",
     "metadata": {},
     "outputs": [],
     "prompt_number": 10
    },
    {
     "cell_type": "code",
     "collapsed": false,
     "input": [
      "mid=Midpoint(0,np.pi,30)\n",
      "mid.integrate(sin)\n"
     ],
     "language": "python",
     "metadata": {},
     "outputs": [
      {
       "metadata": {},
       "output_type": "pyout",
       "prompt_number": 11,
       "text": [
        "2.0009141446379624"
       ]
      }
     ],
     "prompt_number": 11
    },
    {
     "cell_type": "heading",
     "level": 5,
     "metadata": {},
     "source": [
      "6 Create a separate function of x that plots\n",
      "$\n",
      "\\int_0^x sin(x) dx = 1 - cos(x),\n",
      "$\n",
      "using any of the two methods you developed."
     ]
    },
    {
     "cell_type": "code",
     "collapsed": false,
     "input": [
      "def trapMethod(x):\n",
      "    tra=Trapezoidal(0,x,10)\n",
      "    manyPts=np.linspace(0,x,1000)\n",
      "    plt.pyplot.plot(manyPts,1-np.cos(manyPts),color=[0,0,1])\n",
      "    plt.pyplot.fill_between(manyPts,sin(manyPts),facecolor=[1,0,0],alpha=.75)\n",
      "    plt.pyplot.fill_between(tra.points,sin(tra.points),facecolor=[0,0,1],edgecolor=[0,0,1],alpha=.5)\n",
      "    plt.pyplot.text((tra.a+tra.b)/2,-.5,r\"$\\int_0^x sin(x)dx\\approx x\\frac{f(x)=f(0)}{2}$\", horizontalalignment='center', fontsize=14);\n",
      "    plt.pyplot.text(tra.b*1,1-np.cos(manyPts)[-1],r\"$ 1-cox(x)$\", horizontalalignment='right', verticalalignment='center', fontsize=14);\n",
      "    plt.pyplot.ylim(-1.1,2.1)\n",
      "    plt.pyplot.xlim(0,tra.b)\n",
      "    print('\u222bsin(x)dx from 0 to {}\u2248 {}\u2248{} =1-cos({})'.format(round(x,3),round(tra.integrate(sin),5),round(1-np.cos(x),5),round(x,3)))\n",
      "    return\n",
      "\n",
      "trapMethod(np.pi*2.2)"
     ],
     "language": "python",
     "metadata": {},
     "outputs": [
      {
       "output_type": "stream",
       "stream": "stdout",
       "text": [
        "\u222bsin(x)dx from 0 to 6.912= 0.18332\u22480.19098 =1-cos(6.912)\n"
       ]
      },
      {
       "metadata": {},
       "output_type": "display_data",
       "png": "[encoded data removed]",
       "text": [
        "<matplotlib.figure.Figure at 0x1086fea50>"
       ]
      }
     ],
     "prompt_number": 12
    },
    {
     "cell_type": "code",
     "collapsed": false,
     "input": [],
     "language": "python",
     "metadata": {},
     "outputs": [],
     "prompt_number": 44
    }
   ],
   "metadata": {}
  }
 ]
}